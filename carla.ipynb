{
 "cells": [
  {
   "cell_type": "code",
   "execution_count": 1,
   "id": "cd2f9f2c",
   "metadata": {},
   "outputs": [],
   "source": [
    "def resta(a,b):\n",
    "    resta = a - b\n",
    "    return resta"
   ]
  },
  {
   "cell_type": "code",
   "execution_count": 2,
   "id": "e3d5fcd1",
   "metadata": {},
   "outputs": [
    {
     "data": {
      "text/plain": [
       "2"
      ]
     },
     "execution_count": 2,
     "metadata": {},
     "output_type": "execute_result"
    }
   ],
   "source": [
    "resta(5,3)"
   ]
  }
 ],
 "metadata": {
  "kernelspec": {
   "display_name": "Python 3 (ipykernel)",
   "language": "python",
   "name": "python3"
  },
  "language_info": {
   "codemirror_mode": {
    "name": "ipython",
    "version": 3
   },
   "file_extension": ".py",
   "mimetype": "text/x-python",
   "name": "python",
   "nbconvert_exporter": "python",
   "pygments_lexer": "ipython3",
   "version": "3.9.7"
  }
 },
 "nbformat": 4,
 "nbformat_minor": 5
}

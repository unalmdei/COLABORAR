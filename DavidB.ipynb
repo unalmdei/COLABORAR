{
 "cells": [
  {
   "cell_type": "code",
   "execution_count": 1,
   "id": "27cfd85d",
   "metadata": {},
   "outputs": [
    {
     "name": "stdout",
     "output_type": "stream",
     "text": [
      "Ingrese el numero: 7\n",
      "el factorial de 1 es 1\n",
      "el factorial de 2 es 2\n",
      "el factorial de 3 es 6\n",
      "el factorial de 4 es 24\n",
      "el factorial de 5 es 120\n",
      "el factorial de 6 es 720\n",
      "el factorial de 7 es 5040\n",
      "el factorial de 7 es 35280\n"
     ]
    }
   ],
   "source": [
    "n = int(input(\"Ingrese el numero: \"))\n",
    "F=1\n",
    "i=1\n",
    "for i in range (1,n+1):\n",
    "    F = F*i\n",
    "    print(\"el factorial de\",i,\"es\",F)\n",
    "\n",
    "while i<=n:\n",
    "    F=F*i\n",
    "    i+=1\n",
    "    print(\"el factorial de\",i-1,\"es\",F)"
   ]
  },
  {
   "cell_type": "code",
   "execution_count": null,
   "id": "2e5241e1",
   "metadata": {},
   "outputs": [],
   "source": []
  }
 ],
 "metadata": {
  "kernelspec": {
   "display_name": "Python 3 (ipykernel)",
   "language": "python",
   "name": "python3"
  },
  "language_info": {
   "codemirror_mode": {
    "name": "ipython",
    "version": 3
   },
   "file_extension": ".py",
   "mimetype": "text/x-python",
   "name": "python",
   "nbconvert_exporter": "python",
   "pygments_lexer": "ipython3",
   "version": "3.11.4"
  }
 },
 "nbformat": 4,
 "nbformat_minor": 5
}

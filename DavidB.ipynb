{
 "cells": [
  {
   "cell_type": "code",
   "execution_count": null,
   "id": "27cfd85d",
   "metadata": {},
   "outputs": [],
   "source": [
    "n = int(input(\"Ingrese el numero: \"))\n",
    "F=1\n",
    "i=1\n",
    "for i in range (1,n+1):\n",
    "    F = F*i\n",
    "    print(\"el factorial de\",i,\"es\",F)\n",
    "\n",
    "while i<=n:\n",
    "    F=F*i\n",
    "    i+=1\n",
    "    print(\"el factorial de\",i-1,\"es\",F)\n",
    "\"esto es una prueba\""
   ]
  },
  {
   "cell_type": "code",
   "execution_count": null,
   "id": "2e5241e1",
   "metadata": {},
   "outputs": [],
   "source": []
  }
 ],
 "metadata": {
  "kernelspec": {
   "display_name": "Python 3 (ipykernel)",
   "language": "python",
   "name": "python3"
  },
  "language_info": {
   "codemirror_mode": {
    "name": "ipython",
    "version": 3
   },
   "file_extension": ".py",
   "mimetype": "text/x-python",
   "name": "python",
   "nbconvert_exporter": "python",
   "pygments_lexer": "ipython3",
   "version": "3.11.4"
  }
 },
 "nbformat": 4,
 "nbformat_minor": 5
}
